{
 "cells": [
  {
   "cell_type": "code",
   "execution_count": 1,
   "metadata": {},
   "outputs": [
    {
     "name": "stdout",
     "output_type": "stream",
     "text": [
      "Welcome to the Rock, Paper, Scissors Game!\n",
      "Choose one of the following options:\n",
      "1 - Rock\n",
      "2 - Paper\n",
      "3 - Scissors\n",
      "\n",
      "\n",
      "You chose: Scissors\n",
      "Computer chose: Rock\n",
      "\n",
      "Result: Computer wins!\n"
     ]
    }
   ],
   "source": [
    "import random\n",
    "\n",
    "def display_welcome():\n",
    "    print(\"Welcome to the Rock, Paper, Scissors Game!\")\n",
    "    print(\"Choose one of the following options:\")\n",
    "    print(\"1 - Rock\\n2 - Paper\\n3 - Scissors\\n\")\n",
    "\n",
    "def get_computer_choice():\n",
    "    return random.choice([\"rock\", \"paper\", \"scissors\"])\n",
    "\n",
    "def determine_winner(user_choice, computer_choice):\n",
    "    if user_choice == computer_choice:\n",
    "        return \"It's a tie!\"\n",
    "    elif (user_choice == \"rock\" and computer_choice == \"scissors\") or \\\n",
    "         (user_choice == \"paper\" and computer_choice == \"rock\") or \\\n",
    "         (user_choice == \"scissors\" and computer_choice == \"paper\"):\n",
    "        return \"You win!\"\n",
    "    else:\n",
    "        return \"Computer wins!\"\n",
    "\n",
    "def play_game():\n",
    "    display_welcome()\n",
    "    \n",
    "    choices = {1: \"rock\", 2: \"paper\", 3: \"scissors\"}\n",
    "    try:\n",
    "        user_input = int(input(\"Enter your choice (1, 2, or 3): \"))\n",
    "        if user_input not in choices:\n",
    "            print(\"Invalid choice! Please select 1, 2, or 3.\")\n",
    "            return\n",
    "        \n",
    "        user_choice = choices[user_input]\n",
    "        computer_choice = get_computer_choice()\n",
    "        \n",
    "        print(f\"\\nYou chose: {user_choice.capitalize()}\")\n",
    "        print(f\"Computer chose: {computer_choice.capitalize()}\")\n",
    "        \n",
    "        result = determine_winner(user_choice, computer_choice)\n",
    "        print(f\"\\nResult: {result}\")\n",
    "    \n",
    "    except ValueError:\n",
    "        print(\"Invalid input! Please enter a number (1, 2, or 3).\")\n",
    "\n",
    "if __name__ == \"__main__\":\n",
    "    play_game()\n"
   ]
  }
 ],
 "metadata": {
  "kernelspec": {
   "display_name": "base",
   "language": "python",
   "name": "python3"
  },
  "language_info": {
   "codemirror_mode": {
    "name": "ipython",
    "version": 3
   },
   "file_extension": ".py",
   "mimetype": "text/x-python",
   "name": "python",
   "nbconvert_exporter": "python",
   "pygments_lexer": "ipython3",
   "version": "3.12.4"
  }
 },
 "nbformat": 4,
 "nbformat_minor": 2
}

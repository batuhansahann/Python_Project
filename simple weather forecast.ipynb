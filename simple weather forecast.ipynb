{
 "cells": [
  {
   "cell_type": "code",
   "execution_count": 1,
   "metadata": {},
   "outputs": [
    {
     "name": "stdout",
     "output_type": "stream",
     "text": [
      "Welcome to the Weather App!\n",
      "Enter a city name to get the current weather.\n",
      "\n",
      "\n",
      "Weather in Ankara:\n",
      "Condition: Foggy\n",
      "Temperature: 3.59°C\n"
     ]
    }
   ],
   "source": [
    "import random\n",
    "\n",
    "def display_welcome():\n",
    "    print(\"Welcome to the Weather App!\")\n",
    "    print(\"Enter a city name to get the current weather.\\n\")\n",
    "\n",
    "def get_weather(city):\n",
    "    # Simulated weather data (for real API use, integrate with OpenWeatherMap or similar)\n",
    "    weather_conditions = [\"Sunny\", \"Cloudy\", \"Rainy\", \"Snowy\", \"Windy\", \"Foggy\", \"Stormy\"]\n",
    "    temperature = random.uniform(-10, 35)  # Generate a random temperature in Celsius\n",
    "    \n",
    "    weather = random.choice(weather_conditions)\n",
    "    return weather, round(temperature, 2)\n",
    "\n",
    "def main():\n",
    "    display_welcome()\n",
    "    city = input(\"Enter a city name: \").title()\n",
    "    weather, temperature = get_weather(city)\n",
    "    \n",
    "    print(f\"\\nWeather in {city}:\")\n",
    "    print(f\"Condition: {weather}\")\n",
    "    print(f\"Temperature: {temperature}°C\")\n",
    "\n",
    "if __name__ == \"__main__\":\n",
    "    main()\n"
   ]
  }
 ],
 "metadata": {
  "kernelspec": {
   "display_name": "base",
   "language": "python",
   "name": "python3"
  },
  "language_info": {
   "codemirror_mode": {
    "name": "ipython",
    "version": 3
   },
   "file_extension": ".py",
   "mimetype": "text/x-python",
   "name": "python",
   "nbconvert_exporter": "python",
   "pygments_lexer": "ipython3",
   "version": "3.12.4"
  }
 },
 "nbformat": 4,
 "nbformat_minor": 2
}

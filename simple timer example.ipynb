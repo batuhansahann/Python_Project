{
 "cells": [
  {
   "cell_type": "code",
   "execution_count": 1,
   "metadata": {},
   "outputs": [
    {
     "name": "stdout",
     "output_type": "stream",
     "text": [
      "Welcome to the Simple Timer!\n",
      "Set a time in seconds, and the timer will count down to zero.\n",
      "\n",
      "Starting timer for 5 seconds...\n",
      "\n",
      "Time's up!\n"
     ]
    }
   ],
   "source": [
    "import time\n",
    "\n",
    "def display_welcome():\n",
    "    print(\"Welcome to the Simple Timer!\")\n",
    "    print(\"Set a time in seconds, and the timer will count down to zero.\\n\")\n",
    "\n",
    "def countdown_timer(seconds):\n",
    "    while seconds > 0:\n",
    "        mins, secs = divmod(seconds, 60)\n",
    "        timer = f'{mins:02}:{secs:02}'\n",
    "        print(timer, end=\"\\r\")\n",
    "        time.sleep(1)\n",
    "        seconds -= 1\n",
    "    print(\"Time's up!\")\n",
    "\n",
    "def main():\n",
    "    display_welcome()\n",
    "    \n",
    "    try:\n",
    "        seconds = int(input(\"Enter the time in seconds: \"))\n",
    "        print(f\"Starting timer for {seconds} seconds...\\n\")\n",
    "        countdown_timer(seconds)\n",
    "    except ValueError:\n",
    "        print(\"Please enter a valid integer for seconds.\")\n",
    "\n",
    "if __name__ == \"__main__\":\n",
    "    main()\n"
   ]
  }
 ],
 "metadata": {
  "kernelspec": {
   "display_name": "base",
   "language": "python",
   "name": "python3"
  },
  "language_info": {
   "codemirror_mode": {
    "name": "ipython",
    "version": 3
   },
   "file_extension": ".py",
   "mimetype": "text/x-python",
   "name": "python",
   "nbconvert_exporter": "python",
   "pygments_lexer": "ipython3",
   "version": "3.12.4"
  }
 },
 "nbformat": 4,
 "nbformat_minor": 2
}

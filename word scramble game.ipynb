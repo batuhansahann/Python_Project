{
 "cells": [
  {
   "cell_type": "code",
   "execution_count": null,
   "metadata": {},
   "outputs": [
    {
     "name": "stdout",
     "output_type": "stream",
     "text": [
      "Welcome to the Word Scramble Game!\n",
      "You will be shown a scrambled word.\n",
      "Try to guess the correct word!\n",
      "\n",
      "Scrambled word: otiaglmrh\n",
      "Incorrect. Try again! The word was algorithm.\n",
      "\n",
      "Scrambled word: evnmopdelte\n",
      "Incorrect. Try again! The word was development.\n",
      "\n",
      "Scrambled word: tinucfon\n",
      "Incorrect. Try again! The word was function.\n",
      "\n",
      "Scrambled word: itcnuonf\n",
      "Incorrect. Try again! The word was function.\n",
      "\n",
      "Scrambled word: rlavaibe\n"
     ]
    }
   ],
   "source": [
    "import random\n",
    "\n",
    "def display_welcome():\n",
    "    print(\"Welcome to the Word Scramble Game!\")\n",
    "    print(\"You will be shown a scrambled word.\")\n",
    "    print(\"Try to guess the correct word!\\n\")\n",
    "\n",
    "def get_scrambled_word(word):\n",
    "    word_letters = list(word)\n",
    "    random.shuffle(word_letters)\n",
    "    return ''.join(word_letters)\n",
    "\n",
    "def play_game():\n",
    "    display_welcome()\n",
    "    words = [\"python\", \"development\", \"computer\", \"keyboard\", \"function\", \"variable\", \"programming\", \"algorithm\"]\n",
    "    target_score = 3  # Number of correct guesses to win\n",
    "    score = 0\n",
    "\n",
    "    while score < target_score:\n",
    "        word = random.choice(words)\n",
    "        scrambled_word = get_scrambled_word(word)\n",
    "        \n",
    "        print(f\"Scrambled word: {scrambled_word}\")\n",
    "        \n",
    "        guess = input(\"Your guess: \").lower()\n",
    "        \n",
    "        if guess == word:\n",
    "            score += 1\n",
    "            print(f\"Correct! Your current score is: {score}/{target_score}\\n\")\n",
    "        else:\n",
    "            print(f\"Incorrect. Try again! The word was {word}.\\n\")\n",
    "    \n",
    "    print(\"Congratulations! You've guessed enough words correctly and won the game!\")\n",
    "\n",
    "if __name__ == \"__main__\":\n",
    "    play_game()\n"
   ]
  }
 ],
 "metadata": {
  "kernelspec": {
   "display_name": "base",
   "language": "python",
   "name": "python3"
  },
  "language_info": {
   "codemirror_mode": {
    "name": "ipython",
    "version": 3
   },
   "file_extension": ".py",
   "mimetype": "text/x-python",
   "name": "python",
   "nbconvert_exporter": "python",
   "pygments_lexer": "ipython3",
   "version": "3.12.4"
  }
 },
 "nbformat": 4,
 "nbformat_minor": 2
}

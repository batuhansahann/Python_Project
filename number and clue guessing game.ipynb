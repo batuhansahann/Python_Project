{
 "cells": [
  {
   "cell_type": "code",
   "execution_count": 1,
   "metadata": {},
   "outputs": [
    {
     "name": "stdout",
     "output_type": "stream",
     "text": [
      "Welcome to the Guessing Game with H!\n",
      "The computer has selected a number within a range.\n",
      "Try to guess the number. You'll receive hints if you're too high, too low, or close to the answer.\n",
      "\n",
      "The number is between 1 and 100.\n",
      "Too low! Try a higher number.\n",
      "Too low! Try a higher number.\n",
      "Too low! Try a higher number.\n",
      "Too low! Try a higher number.\n",
      "Too low! Try a higher number.\n",
      "Too low! Try a higher number.\n",
      "Too low! Try a higher number.\n",
      "Please guess within the range 1 to 100.\n",
      "You're very close!\n",
      "You're very close!\n",
      "Congratulations! You've guessed the correct number 97 in 11 attempts!\n"
     ]
    }
   ],
   "source": [
    "import random\n",
    "\n",
    "def display_welcome():\n",
    "    print(\"Welcome to the Guessing Game with H!\")\n",
    "    print(\"The computer has selected a number within a range.\")\n",
    "    print(\"Try to guess the number. You'll receive hints if you're too high, too low, or close to the answer.\\n\")\n",
    "\n",
    "def play_game():\n",
    "    # Set the range for the number to be guessed\n",
    "    lower_bound = 1\n",
    "    upper_bound = 100\n",
    "    secret_number = random.randint(lower_bound, upper_bound)\n",
    "    attempts = 0\n",
    "    \n",
    "    print(f\"The number is between {lower_bound} and {upper_bound}.\")\n",
    "\n",
    "    while True:\n",
    "        try:\n",
    "            guess = int(input(\"Enter your guess: \"))\n",
    "            attempts += 1\n",
    "            \n",
    "            if guess < lower_bound or guess > upper_bound:\n",
    "                print(f\"Please guess within the range {lower_bound} to {upper_bound}.\")\n",
    "                continue\n",
    "\n",
    "            if guess == secret_number:\n",
    "                print(f\"Congratulations! You've guessed the correct number {secret_number} in {attempts} attempts!\")\n",
    "                break\n",
    "            else:\n",
    "                difference = abs(secret_number - guess)\n",
    "                if difference <= 5:\n",
    "                    print(\"You're very close!\")\n",
    "                elif difference <= 15:\n",
    "                    print(\"You're close!\")\n",
    "                elif guess < secret_number:\n",
    "                    print(\"Too low! Try a higher number.\")\n",
    "                else:\n",
    "                    print(\"Too high! Try a lower number.\")\n",
    "        \n",
    "        except ValueError:\n",
    "            print(\"Please enter a valid number.\")\n",
    "\n",
    "if __name__ == \"__main__\":\n",
    "    display_welcome()\n",
    "    play_game()\n"
   ]
  }
 ],
 "metadata": {
  "kernelspec": {
   "display_name": "base",
   "language": "python",
   "name": "python3"
  },
  "language_info": {
   "codemirror_mode": {
    "name": "ipython",
    "version": 3
   },
   "file_extension": ".py",
   "mimetype": "text/x-python",
   "name": "python",
   "nbconvert_exporter": "python",
   "pygments_lexer": "ipython3",
   "version": "3.12.4"
  }
 },
 "nbformat": 4,
 "nbformat_minor": 2
}

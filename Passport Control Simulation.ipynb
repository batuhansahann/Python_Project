{
 "cells": [
  {
   "cell_type": "code",
   "execution_count": 1,
   "metadata": {},
   "outputs": [
    {
     "name": "stdout",
     "output_type": "stream",
     "text": [
      "Welcome to Passport Control!\n",
      "Please provide the required details for verification.\n",
      "\n",
      "Invalid passport number. It must be alphanumeric and 8-9 characters long.\n"
     ]
    }
   ],
   "source": [
    "import re\n",
    "\n",
    "def display_welcome():\n",
    "    print(\"Welcome to Passport Control!\")\n",
    "    print(\"Please provide the required details for verification.\\n\")\n",
    "\n",
    "def validate_passport_number(passport_number):\n",
    "    \"\"\"Check if the passport number is valid (alphanumeric, length 8-9).\"\"\"\n",
    "    return bool(re.fullmatch(r\"[A-Z0-9]{8,9}\", passport_number))\n",
    "\n",
    "def validate_country_code(country_code):\n",
    "    \"\"\"Check if the country code is valid (ISO 3166-1 alpha-2 format).\"\"\"\n",
    "    valid_country_codes = {\"US\", \"GB\", \"DE\", \"FR\", \"TR\", \"IN\", \"CN\", \"JP\", \"AU\", \"BR\"}\n",
    "    return country_code.upper() in valid_country_codes\n",
    "\n",
    "def validate_age(age):\n",
    "    \"\"\"Check if the person is an adult (18+).\"\"\"\n",
    "    return age >= 18\n",
    "\n",
    "def passport_control():\n",
    "    display_welcome()\n",
    "    \n",
    "    passport_number = input(\"Enter your passport number: \").strip().upper()\n",
    "    country_code = input(\"Enter your country code (ISO format, e.g., US, TR): \").strip().upper()\n",
    "    try:\n",
    "        age = int(input(\"Enter your age: \").strip())\n",
    "    except ValueError:\n",
    "        print(\"Invalid age. Please enter a valid number.\")\n",
    "        return\n",
    "    \n",
    "    # Validation checks\n",
    "    if not validate_passport_number(passport_number):\n",
    "        print(\"Invalid passport number. It must be alphanumeric and 8-9 characters long.\")\n",
    "        return\n",
    "    if not validate_country_code(country_code):\n",
    "        print(\"Invalid country code. Please use a valid ISO 3166-1 alpha-2 code.\")\n",
    "        return\n",
    "    if not validate_age(age):\n",
    "        print(\"You must be at least 18 years old to pass the control.\")\n",
    "        return\n",
    "\n",
    "    # If all checks pass\n",
    "    print(\"\\nPassport verification successful!\")\n",
    "    print(f\"Passport Number: {passport_number}\")\n",
    "    print(f\"Country Code: {country_code}\")\n",
    "    print(f\"Age: {age}\")\n",
    "\n",
    "if __name__ == \"__main__\":\n",
    "    passport_control()\n"
   ]
  }
 ],
 "metadata": {
  "kernelspec": {
   "display_name": "base",
   "language": "python",
   "name": "python3"
  },
  "language_info": {
   "codemirror_mode": {
    "name": "ipython",
    "version": 3
   },
   "file_extension": ".py",
   "mimetype": "text/x-python",
   "name": "python",
   "nbconvert_exporter": "python",
   "pygments_lexer": "ipython3",
   "version": "3.12.7"
  }
 },
 "nbformat": 4,
 "nbformat_minor": 2
}

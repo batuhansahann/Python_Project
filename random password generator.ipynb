{
 "cells": [
  {
   "cell_type": "code",
   "execution_count": 1,
   "metadata": {},
   "outputs": [
    {
     "name": "stdout",
     "output_type": "stream",
     "text": [
      "Welcome to the Password Generator!\n",
      "You can generate a random, secure password based on your preferences.\n",
      "\n",
      "\n",
      "Generated Password: PBDz\n"
     ]
    }
   ],
   "source": [
    "import random\n",
    "import string\n",
    "\n",
    "def display_welcome():\n",
    "    print(\"Welcome to the Password Generator!\")\n",
    "    print(\"You can generate a random, secure password based on your preferences.\\n\")\n",
    "\n",
    "def generate_password(length, use_upper, use_lower, use_digits, use_special):\n",
    "    characters = \"\"\n",
    "    if use_upper:\n",
    "        characters += string.ascii_uppercase\n",
    "    if use_lower:\n",
    "        characters += string.ascii_lowercase\n",
    "    if use_digits:\n",
    "        characters += string.digits\n",
    "    if use_special:\n",
    "        characters += string.punctuation\n",
    "    \n",
    "    if not characters:\n",
    "        return \"You must select at least one character type!\"\n",
    "\n",
    "    # Generate a random password\n",
    "    password = ''.join(random.choice(characters) for _ in range(length))\n",
    "    return password\n",
    "\n",
    "def main():\n",
    "    display_welcome()\n",
    "    \n",
    "    try:\n",
    "        length = int(input(\"Enter the desired password length: \"))\n",
    "        use_upper = input(\"Include uppercase letters? (y/n): \").strip().lower() == 'y'\n",
    "        use_lower = input(\"Include lowercase letters? (y/n): \").strip().lower() == 'y'\n",
    "        use_digits = input(\"Include digits? (y/n): \").strip().lower() == 'y'\n",
    "        use_special = input(\"Include special characters? (y/n): \").strip().lower() == 'y'\n",
    "        \n",
    "        password = generate_password(length, use_upper, use_lower, use_digits, use_special)\n",
    "        print(f\"\\nGenerated Password: {password}\")\n",
    "    \n",
    "    except ValueError:\n",
    "        print(\"Invalid input. Please enter a valid number for length.\")\n",
    "\n",
    "if __name__ == \"__main__\":\n",
    "    main()\n"
   ]
  }
 ],
 "metadata": {
  "kernelspec": {
   "display_name": "base",
   "language": "python",
   "name": "python3"
  },
  "language_info": {
   "codemirror_mode": {
    "name": "ipython",
    "version": 3
   },
   "file_extension": ".py",
   "mimetype": "text/x-python",
   "name": "python",
   "nbconvert_exporter": "python",
   "pygments_lexer": "ipython3",
   "version": "3.12.4"
  }
 },
 "nbformat": 4,
 "nbformat_minor": 2
}

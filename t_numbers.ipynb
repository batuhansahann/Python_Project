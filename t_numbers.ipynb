{
 "cells": [
  {
   "cell_type": "code",
   "execution_count": 2,
   "metadata": {},
   "outputs": [
    {
     "name": "stdout",
     "output_type": "stream",
     "text": [
      "Welcome to the Number Guessing Game!\n",
      "A random number between 1 and 100 has been selected.\n",
      "You have 7 attempts to guess the number.\n",
      "\n",
      "Try a higher number.\n",
      "Remaining attempts: 6\n",
      "Try a higher number.\n",
      "Remaining attempts: 5\n",
      "Try a higher number.\n",
      "Remaining attempts: 4\n",
      "Try a higher number.\n",
      "Remaining attempts: 3\n",
      "Try a higher number.\n",
      "Remaining attempts: 2\n",
      "Try a higher number.\n",
      "Remaining attempts: 1\n",
      "Try a higher number.\n",
      "Remaining attempts: 0\n",
      "Sorry, you've run out of attempts. The correct number was: 35\n"
     ]
    }
   ],
   "source": [
    "import random\n",
    "\n",
    "def display_welcome():\n",
    "    print(\"Welcome to the Number Guessing Game!\")\n",
    "    print(\"A random number between 1 and 100 has been selected.\")\n",
    "    print(\"You have 7 attempts to guess the number.\\n\")\n",
    "\n",
    "def play_game():\n",
    "    secret_number = random.randint(1, 100)\n",
    "    attempts_left = 7\n",
    "\n",
    "    display_welcome()\n",
    "\n",
    "    while attempts_left > 0:\n",
    "        try:\n",
    "            guess = int(input(\"Enter your guess (between 1 and 100): \"))\n",
    "            \n",
    "            if guess < 1 or guess > 100:\n",
    "                print(\"Please enter a number between 1 and 100.\")\n",
    "                continue\n",
    "\n",
    "            if guess == secret_number:\n",
    "                print(f\"Congratulations! {guess} is correct. You guessed the number!\")\n",
    "                break\n",
    "            elif guess < secret_number:\n",
    "                print(\"Try a higher number.\")\n",
    "            else:\n",
    "                print(\"Try a lower number.\")\n",
    "\n",
    "            attempts_left -= 1\n",
    "            print(f\"Remaining attempts: {attempts_left}\")\n",
    "\n",
    "        except ValueError:\n",
    "            print(\"Please enter a valid number.\")\n",
    "    \n",
    "    else:\n",
    "        print(f\"Sorry, you've run out of attempts. The correct number was: {secret_number}\")\n",
    "\n",
    "if __name__ == \"__main__\":\n",
    "    play_game()\n"
   ]
  }
 ],
 "metadata": {
  "kernelspec": {
   "display_name": "base",
   "language": "python",
   "name": "python3"
  },
  "language_info": {
   "codemirror_mode": {
    "name": "ipython",
    "version": 3
   },
   "file_extension": ".py",
   "mimetype": "text/x-python",
   "name": "python",
   "nbconvert_exporter": "python",
   "pygments_lexer": "ipython3",
   "version": "3.12.4"
  }
 },
 "nbformat": 4,
 "nbformat_minor": 2
}

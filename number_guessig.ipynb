{
 "cells": [
  {
   "cell_type": "code",
   "execution_count": 4,
   "metadata": {},
   "outputs": [
    {
     "name": "stdout",
     "output_type": "stream",
     "text": [
      "Welcome to the Number Guessing Game!\n",
      "Attempts remaining: 7\n",
      "Guess higher!\n",
      "Attempts remaining: 6\n",
      "Guess higher!\n",
      "Attempts remaining: 5\n",
      "Guess lower!\n",
      "Attempts remaining: 4\n",
      "Guess higher!\n",
      "Attempts remaining: 3\n",
      "Guess higher!\n",
      "Attempts remaining: 2\n",
      "Guess higher!\n",
      "Attempts remaining: 1\n",
      "Guess higher!\n",
      "Sorry, you're out of attempts. The secret number was 87.\n"
     ]
    }
   ],
   "source": [
    "import random\n",
    "\n",
    "def number_guessing_game():\n",
    "    print(\"Welcome to the Number Guessing Game!\")\n",
    "    \n",
    "    # A random number between 1 and 100 is selected\n",
    "    secret_number = random.randint(1, 100)\n",
    "    \n",
    "    # The number of attempts the player has\n",
    "    attempts_left = 7\n",
    "\n",
    "    # Player makes a guess\n",
    "    while attempts_left > 0:\n",
    "        print(f\"Attempts remaining: {attempts_left}\")\n",
    "        guess = int(input(\"Guess a number between 1 and 100: \"))\n",
    "\n",
    "        if guess < secret_number:\n",
    "            print(\"Guess higher!\")\n",
    "        elif guess > secret_number:\n",
    "            print(\"Guess lower!\")\n",
    "        else:\n",
    "            print(f\"Congratulations! You guessed it right. The secret number was {secret_number}.\")\n",
    "            break\n",
    "\n",
    "        attempts_left -= 1\n",
    "\n",
    "    if attempts_left == 0:\n",
    "        print(f\"Sorry, you're out of attempts. The secret number was {secret_number}.\")\n",
    "number_guessing_game()\n"
   ]
  }
 ],
 "metadata": {
  "kernelspec": {
   "display_name": "base",
   "language": "python",
   "name": "python3"
  },
  "language_info": {
   "codemirror_mode": {
    "name": "ipython",
    "version": 3
   },
   "file_extension": ".py",
   "mimetype": "text/x-python",
   "name": "python",
   "nbconvert_exporter": "python",
   "pygments_lexer": "ipython3",
   "version": "3.12.4"
  }
 },
 "nbformat": 4,
 "nbformat_minor": 2
}

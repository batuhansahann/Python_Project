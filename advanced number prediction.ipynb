{
 "cells": [
  {
   "cell_type": "code",
   "execution_count": 1,
   "metadata": {},
   "outputs": [
    {
     "name": "stdout",
     "output_type": "stream",
     "text": [
      "Welcome to the Enhanced Number Guessing Game!\n",
      "Choose a range, and a random number within that range will be selected.\n",
      "Try to guess the number! We'll tell you if you're getting closer or farther.\n",
      "\n",
      "\n",
      "A number between 3 and 11 has been selected.\n",
      "Please guess within the range 3 to 11.\n",
      "Keep trying!\n",
      "You're getting closer!\n",
      "Congratulations! 6 is correct. You've guessed the number!\n"
     ]
    }
   ],
   "source": [
    "import random\n",
    "\n",
    "def display_welcome():\n",
    "    print(\"Welcome to the Enhanced Number Guessing Game!\")\n",
    "    print(\"Choose a range, and a random number within that range will be selected.\")\n",
    "    print(\"Try to guess the number! We'll tell you if you're getting closer or farther.\\n\")\n",
    "\n",
    "def get_user_range():\n",
    "    while True:\n",
    "        try:\n",
    "            min_range = int(input(\"Enter the minimum value of the range: \"))\n",
    "            max_range = int(input(\"Enter the maximum value of the range: \"))\n",
    "            if min_range >= max_range:\n",
    "                print(\"The maximum value should be greater than the minimum value. Try again.\")\n",
    "            else:\n",
    "                return min_range, max_range\n",
    "        except ValueError:\n",
    "            print(\"Please enter valid integer values.\")\n",
    "\n",
    "def play_game():\n",
    "    display_welcome()\n",
    "    min_range, max_range = get_user_range()\n",
    "    secret_number = random.randint(min_range, max_range)\n",
    "    previous_difference = None\n",
    "\n",
    "    print(f\"\\nA number between {min_range} and {max_range} has been selected.\")\n",
    "    \n",
    "    while True:\n",
    "        try:\n",
    "            guess = int(input(\"Enter your guess: \"))\n",
    "            if guess < min_range or guess > max_range:\n",
    "                print(f\"Please guess within the range {min_range} to {max_range}.\")\n",
    "                continue\n",
    "            \n",
    "            current_difference = abs(secret_number - guess)\n",
    "\n",
    "            if guess == secret_number:\n",
    "                print(f\"Congratulations! {guess} is correct. You've guessed the number!\")\n",
    "                break\n",
    "            else:\n",
    "                if previous_difference is None:\n",
    "                    print(\"Keep trying!\")\n",
    "                elif current_difference < previous_difference:\n",
    "                    print(\"You're getting closer!\")\n",
    "                else:\n",
    "                    print(\"You're getting farther!\")\n",
    "                \n",
    "                previous_difference = current_difference\n",
    "\n",
    "        except ValueError:\n",
    "            print(\"Please enter a valid integer.\")\n",
    "\n",
    "if __name__ == \"__main__\":\n",
    "    play_game()\n"
   ]
  }
 ],
 "metadata": {
  "kernelspec": {
   "display_name": "base",
   "language": "python",
   "name": "python3"
  },
  "language_info": {
   "codemirror_mode": {
    "name": "ipython",
    "version": 3
   },
   "file_extension": ".py",
   "mimetype": "text/x-python",
   "name": "python",
   "nbconvert_exporter": "python",
   "pygments_lexer": "ipython3",
   "version": "3.12.4"
  }
 },
 "nbformat": 4,
 "nbformat_minor": 2
}
